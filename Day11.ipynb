{
  "nbformat": 4,
  "nbformat_minor": 0,
  "metadata": {
    "colab": {
      "provenance": [],
      "authorship_tag": "ABX9TyPhLNL7SiK60wp3Gv3cpgk6",
      "include_colab_link": true
    },
    "kernelspec": {
      "name": "python3",
      "display_name": "Python 3"
    },
    "language_info": {
      "name": "python"
    }
  },
  "cells": [
    {
      "cell_type": "markdown",
      "metadata": {
        "id": "view-in-github",
        "colab_type": "text"
      },
      "source": [
        "<a href=\"https://colab.research.google.com/github/huyjaky/NoteBook_colab/blob/main/Day11.ipynb\" target=\"_parent\"><img src=\"https://colab.research.google.com/assets/colab-badge.svg\" alt=\"Open In Colab\"/></a>"
      ]
    },
    {
      "cell_type": "code",
      "source": [
        "import tensorflow as tf\n",
        "import numpy as np\n",
        "\n",
        "corpus = ['Toi thich mon toan', 'Toi thich AI', 'Toi thich am nhac']\n",
        "vocab = ''\n",
        "promt = str(input())\n",
        "\n",
        "# vector lst\n",
        "bow = []\n",
        "\n",
        "# create vocabulary\n",
        "for index, value in enumerate(corpus):\n",
        "  corpus[index] = set(value.split(' ')) # make matrix of vocab include duplicate words\n",
        "  vocab += value+' '\n",
        "vocab = set(vocab.strip().split(' ')) # set of vocab\n",
        "\n",
        "# make vector of vocab\n",
        "for value in vocab:\n",
        "  bow.append(promt.count(value))\n",
        "\n",
        "print(bow)"
      ],
      "metadata": {
        "id": "LynomASlrL2U",
        "colab": {
          "base_uri": "https://localhost:8080/"
        },
        "outputId": "93ea0d13-085d-4e8e-e571-87a4fa1eeea9"
      },
      "execution_count": 23,
      "outputs": [
        {
          "output_type": "stream",
          "name": "stdout",
          "text": [
            "Toi thich AI thich toan\n",
            "[0, 0, 1, 0, 1, 2, 1]\n",
            "{'nhac', 'mon', 'Toi', 'am', 'AI', 'thich', 'toan'}\n",
            "[{'toan', 'Toi', 'thich', 'mon'}, {'AI', 'Toi', 'thich'}, {'nhac', 'am', 'Toi', 'thich'}]\n"
          ]
        }
      ]
    }
  ]
}