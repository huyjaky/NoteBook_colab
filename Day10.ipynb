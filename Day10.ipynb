{
  "nbformat": 4,
  "nbformat_minor": 0,
  "metadata": {
    "colab": {
      "provenance": [],
      "gpuType": "T4",
      "authorship_tag": "ABX9TyO/c4XxNJA6h2ynjn3hazFZ",
      "include_colab_link": true
    },
    "kernelspec": {
      "name": "python3",
      "display_name": "Python 3"
    },
    "language_info": {
      "name": "python"
    },
    "accelerator": "GPU"
  },
  "cells": [
    {
      "cell_type": "markdown",
      "metadata": {
        "id": "view-in-github",
        "colab_type": "text"
      },
      "source": [
        "<a href=\"https://colab.research.google.com/github/huyjaky/NoteBook_colab/blob/main/Day10.ipynb\" target=\"_parent\"><img src=\"https://colab.research.google.com/assets/colab-badge.svg\" alt=\"Open In Colab\"/></a>"
      ]
    },
    {
      "cell_type": "code",
      "execution_count": 5,
      "metadata": {
        "id": "rwa4I8MOeyul",
        "colab": {
          "base_uri": "https://localhost:8080/"
        },
        "outputId": "27cb83d3-4c2c-4876-8cdb-ba547e4c1d1a"
      },
      "outputs": [
        {
          "output_type": "stream",
          "name": "stdout",
          "text": [
            "Reading package lists... Done\n",
            "Building dependency tree... Done\n",
            "Reading state information... Done\n",
            "Suggested packages:\n",
            "  gettext-base git-daemon-run | git-daemon-sysvinit git-doc git-email git-gui gitk gitweb git-cvs\n",
            "  git-mediawiki git-svn\n",
            "The following NEW packages will be installed:\n",
            "  git\n",
            "0 upgraded, 1 newly installed, 0 to remove and 35 not upgraded.\n",
            "Need to get 3,166 kB of archives.\n",
            "After this operation, 18.9 MB of additional disk space will be used.\n",
            "Get:1 http://archive.ubuntu.com/ubuntu jammy-updates/main amd64 git amd64 1:2.34.1-1ubuntu1.10 [3,166 kB]\n",
            "Fetched 3,166 kB in 2s (1,651 kB/s)\n",
            "Selecting previously unselected package git.\n",
            "(Reading database ... 120910 files and directories currently installed.)\n",
            "Preparing to unpack .../git_1%3a2.34.1-1ubuntu1.10_amd64.deb ...\n",
            "Unpacking git (1:2.34.1-1ubuntu1.10) ...\n",
            "Setting up git (1:2.34.1-1ubuntu1.10) ...\n",
            "Cloning into 'pytorch'...\n",
            "remote: Enumerating objects: 1111762, done.\u001b[K\n",
            "remote: Counting objects: 100% (3506/3506), done.\u001b[K\n",
            "remote: Compressing objects: 100% (1752/1752), done.\u001b[K\n",
            "remote: Total 1111762 (delta 2454), reused 2613 (delta 1742), pack-reused 1108256\u001b[K\n",
            "Receiving objects: 100% (1111762/1111762), 1007.55 MiB | 15.91 MiB/s, done.\n",
            "Resolving deltas: 100% (889497/889497), done.\n",
            "Updating files: 100% (18476/18476), done.\n"
          ]
        }
      ],
      "source": [
        "!apt-get install git -y && git clone https://github.com/pytorch/pytorch"
      ]
    },
    {
      "cell_type": "code",
      "source": [
        "import tensorflow as tf\n",
        "import torch\n",
        "import math\n",
        "import numpy as np\n",
        "\n",
        "numpy_arr = np.array([[1,2,3], [4,5,6]])\n",
        "torch_tensor = torch.tensor(numpy_arr)\n",
        "\n",
        "rank_1_tensor = tf.constant([[1,2,3],[4,5,6]])\n",
        "\n",
        "torch.manual_seed(1729)\n",
        "random1 = torch.rand(2, 3)\n",
        "\n",
        "print('numpy_arr', numpy_arr.dtype, numpy_arr.shape, type(numpy_arr), torch.device)\n",
        "print('rank_1_tensor', rank_1_tensor)\n",
        "print('pytorch', type(random1), random1.dtype, random1.shape)\n",
        "\n"
      ],
      "metadata": {
        "colab": {
          "base_uri": "https://localhost:8080/"
        },
        "id": "kvPC_FcQgE1y",
        "outputId": "670ec35a-2c75-4ba7-cf8d-4c0ad3dd0daa"
      },
      "execution_count": 22,
      "outputs": [
        {
          "output_type": "stream",
          "name": "stdout",
          "text": [
            "numpy_arr int64 (2, 3) <class 'numpy.ndarray'> <class 'torch.device'>\n",
            "rank_1_tensor tf.Tensor(\n",
            "[[1 2 3]\n",
            " [4 5 6]], shape=(2, 3), dtype=int32)\n",
            "pytorch <class 'torch.Tensor'> torch.float32 torch.Size([2, 3])\n"
          ]
        }
      ]
    }
  ]
}